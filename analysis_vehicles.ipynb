{
 "cells": [
  {
   "cell_type": "code",
   "execution_count": 49,
   "metadata": {},
   "outputs": [],
   "source": [
    "import pandas as pd \n",
    "import os\n",
    "import seaborn as sns"
   ]
  },
  {
   "cell_type": "markdown",
   "metadata": {},
   "source": [
    "1. Reading and combining data\n",
    "    Load all 9 CSV files into a list.\n",
    "    Concatenate the files into a single DataFrame, named vehicles_df."
   ]
  },
  {
   "cell_type": "code",
   "execution_count": 50,
   "metadata": {},
   "outputs": [],
   "source": [
    "folder_path= './PassengerVehicle_Stats'\n",
    "dfs=[]\n",
    "files= [f for f in os.listdir(folder_path) if f.endswith('.csv')]\n",
    "\n",
    "for file in files:\n",
    "    file_path = os.path.join(folder_path,file)\n",
    "    df1 = pd.read_csv(file_path)\n",
    "    dfs.append(df1)"
   ]
  },
  {
   "cell_type": "markdown",
   "metadata": {},
   "source": [
    "    Concatenate the files into a single DataFrame, named vehicles_df."
   ]
  },
  {
   "cell_type": "code",
   "execution_count": 51,
   "metadata": {},
   "outputs": [],
   "source": [
    "combine_df = pd.concat(dfs, ignore_index=True)\n",
    "combine_df.to_csv('./vehicles_df.csv', index= False)\n",
    "\n",
    "vehicles_df = pd.read_csv('vehicles_df.csv')\n",
    "\n"
   ]
  },
  {
   "cell_type": "markdown",
   "metadata": {},
   "source": [
    "2. Initial data exploration and cleaning\n",
    "    Examine the DataFrame structure, including its features and data types.\n",
    "    "
   ]
  },
  {
   "cell_type": "code",
   "execution_count": 52,
   "metadata": {},
   "outputs": [
    {
     "name": "stdout",
     "output_type": "stream",
     "text": [
      "<class 'pandas.core.frame.DataFrame'>\n",
      "RangeIndex: 66408 entries, 0 to 66407\n",
      "Data columns (total 17 columns):\n",
      " #   Column                              Non-Null Count  Dtype  \n",
      "---  ------                              --------------  -----  \n",
      " 0   Unnamed: 0                          66408 non-null  int64  \n",
      " 1   Public Vehicle Number               66408 non-null  int64  \n",
      " 2   Status                              66408 non-null  object \n",
      " 3   Vehicle Make                        58740 non-null  object \n",
      " 4   Vehicle Model                       58556 non-null  object \n",
      " 5   Vehicle Model Year                  58640 non-null  float64\n",
      " 6   Vehicle Color                       58464 non-null  object \n",
      " 7   Vehicle Fuel Source                 66408 non-null  object \n",
      " 8   Wheelchair Accessible               66408 non-null  object \n",
      " 9   Company Name                        66408 non-null  object \n",
      " 10  Address                             59264 non-null  object \n",
      " 11  City                                59264 non-null  object \n",
      " 12  State                               59264 non-null  object \n",
      " 13  ZIP Code                            59264 non-null  float64\n",
      " 14  Taxi Affiliation                    29392 non-null  object \n",
      " 15  Taxi Medallion License Management   29284 non-null  object \n",
      " 16  Record ID                           66408 non-null  object \n",
      "dtypes: float64(2), int64(2), object(13)\n",
      "memory usage: 8.6+ MB\n",
      "None\n",
      "   Unnamed: 0  Public Vehicle Number    Status Vehicle Make Vehicle Model  \\\n",
      "0        1286                  12009  RESERVED    CHEVROLET       EXPRESS   \n",
      "1        2095                  12248  INACTIVE     MERCEDES      SPRINTER   \n",
      "2        7950                  13527  INACTIVE     VAN HOOL         TD925   \n",
      "3        8700                  12248  INACTIVE     MERCEDES      SPRINTER   \n",
      "4        9359                  13528  INACTIVE     VAN HOOL         TD925   \n",
      "\n",
      "   Vehicle Model Year Vehicle Color Vehicle Fuel Source Wheelchair Accessible  \\\n",
      "0              2014.0         BLACK          Bio-Diesel                     N   \n",
      "1              2010.0        SILVER          Bio-Diesel                     N   \n",
      "2              2008.0           RED          Bio-Diesel                     N   \n",
      "3              2010.0        SILVER          Bio-Diesel                     N   \n",
      "4              2008.0           RED          Bio-Diesel                     N   \n",
      "\n",
      "                              Company Name                 Address     City  \\\n",
      "0                CHICAGO PRIVATE TOURS LLC  4567 S. OAKENWALD AVE.  CHICAGO   \n",
      "1  O'HARE-MIDWAY LIMOUSINE SERVICE INC # 2       4610 N. CLARK ST.  CHICAGO   \n",
      "2                 TRT TRANSPORTATION, INC.     4400 S. RACINE AVE.  CHICAGO   \n",
      "3  O'HARE-MIDWAY LIMOUSINE SERVICE INC # 2       4610 N. CLARK ST.  CHICAGO   \n",
      "4                 TRT TRANSPORTATION, INC.     4400 S. RACINE AVE.  CHICAGO   \n",
      "\n",
      "  State  ZIP Code Taxi Affiliation Taxi Medallion License Management   \\\n",
      "0    IL   60653.0              NaN                                NaN   \n",
      "1    IL   60640.0              NaN                                NaN   \n",
      "2    IL   60609.0              NaN                                NaN   \n",
      "3    IL   60640.0              NaN                                NaN   \n",
      "4    IL   60609.0              NaN                                NaN   \n",
      "\n",
      "                  Record ID  \n",
      "0  12009Charter Sightseeing  \n",
      "1  12248Charter Sightseeing  \n",
      "2  13527Charter Sightseeing  \n",
      "3  12248Charter Sightseeing  \n",
      "4  13528Charter Sightseeing  \n"
     ]
    }
   ],
   "source": [
    "print(vehicles_df.info())\n",
    "print(vehicles_df.head())"
   ]
  },
  {
   "cell_type": "markdown",
   "metadata": {},
   "source": [
    "Remove any duplicate records."
   ]
  },
  {
   "cell_type": "code",
   "execution_count": 53,
   "metadata": {},
   "outputs": [],
   "source": [
    "vehicles_df_cleaned = vehicles_df.drop_duplicates(subset='Record ID', keep='first')"
   ]
  },
  {
   "cell_type": "code",
   "execution_count": 54,
   "metadata": {},
   "outputs": [
    {
     "data": {
      "text/plain": [
       "(15667, 17)"
      ]
     },
     "execution_count": 54,
     "metadata": {},
     "output_type": "execute_result"
    }
   ],
   "source": [
    "vehicles_df_cleaned.shape"
   ]
  },
  {
   "cell_type": "markdown",
   "metadata": {},
   "source": [
    "Remove null records only if it is required. Provide reasons for your decision."
   ]
  },
  {
   "cell_type": "code",
   "execution_count": 55,
   "metadata": {},
   "outputs": [
    {
     "name": "stderr",
     "output_type": "stream",
     "text": [
      "C:\\Users\\DELL\\AppData\\Local\\Temp\\ipykernel_2944\\3534816299.py:3: SettingWithCopyWarning: \n",
      "A value is trying to be set on a copy of a slice from a DataFrame\n",
      "\n",
      "See the caveats in the documentation: https://pandas.pydata.org/pandas-docs/stable/user_guide/indexing.html#returning-a-view-versus-a-copy\n",
      "  vehicles_df_cleaned.dropna(subset=columns_to_check, inplace=True)\n"
     ]
    },
    {
     "data": {
      "text/plain": [
       "Unnamed: 0                               0\n",
       "Public Vehicle Number                    0\n",
       "Status                                   0\n",
       "Vehicle Make                           128\n",
       "Vehicle Model                          171\n",
       "Vehicle Model Year                     153\n",
       "Vehicle Color                          195\n",
       "Vehicle Fuel Source                      0\n",
       "Wheelchair Accessible                    0\n",
       "Company Name                             0\n",
       "Address                                  0\n",
       "City                                     0\n",
       "State                                    0\n",
       "ZIP Code                                 0\n",
       "Taxi Affiliation                      7016\n",
       "Taxi Medallion License Management     7042\n",
       "Record ID                                0\n",
       "dtype: int64"
      ]
     },
     "execution_count": 55,
     "metadata": {},
     "output_type": "execute_result"
    }
   ],
   "source": [
    "columns_to_check = ['Address', 'City', 'State','ZIP Code']\n",
    "\n",
    "vehicles_df_cleaned.dropna(subset=columns_to_check, inplace=True)\n",
    "vehicles_df_cleaned.isnull().sum()"
   ]
  },
  {
   "cell_type": "code",
   "execution_count": 56,
   "metadata": {},
   "outputs": [
    {
     "name": "stderr",
     "output_type": "stream",
     "text": [
      "C:\\Users\\DELL\\AppData\\Local\\Temp\\ipykernel_2944\\316356643.py:1: FutureWarning: A value is trying to be set on a copy of a DataFrame or Series through chained assignment using an inplace method.\n",
      "The behavior will change in pandas 3.0. This inplace method will never work because the intermediate object on which we are setting values always behaves as a copy.\n",
      "\n",
      "For example, when doing 'df[col].method(value, inplace=True)', try using 'df.method({col: value}, inplace=True)' or df[col] = df[col].method(value) instead, to perform the operation inplace on the original object.\n",
      "\n",
      "\n",
      "  vehicles_df_cleaned['Vehicle Model Year'].fillna(0, inplace = True)\n",
      "C:\\Users\\DELL\\AppData\\Local\\Temp\\ipykernel_2944\\316356643.py:1: SettingWithCopyWarning: \n",
      "A value is trying to be set on a copy of a slice from a DataFrame\n",
      "\n",
      "See the caveats in the documentation: https://pandas.pydata.org/pandas-docs/stable/user_guide/indexing.html#returning-a-view-versus-a-copy\n",
      "  vehicles_df_cleaned['Vehicle Model Year'].fillna(0, inplace = True)\n",
      "C:\\Users\\DELL\\AppData\\Local\\Temp\\ipykernel_2944\\316356643.py:2: SettingWithCopyWarning: \n",
      "A value is trying to be set on a copy of a slice from a DataFrame.\n",
      "Try using .loc[row_indexer,col_indexer] = value instead\n",
      "\n",
      "See the caveats in the documentation: https://pandas.pydata.org/pandas-docs/stable/user_guide/indexing.html#returning-a-view-versus-a-copy\n",
      "  vehicles_df_cleaned['Vehicle Model Year']=vehicles_df_cleaned['Vehicle Model Year'].astype(int)\n"
     ]
    }
   ],
   "source": [
    "vehicles_df_cleaned['Vehicle Model Year'].fillna(0, inplace = True)\n",
    "vehicles_df_cleaned['Vehicle Model Year']=vehicles_df_cleaned['Vehicle Model Year'].astype(int)\n"
   ]
  },
  {
   "cell_type": "code",
   "execution_count": 57,
   "metadata": {},
   "outputs": [
    {
     "name": "stderr",
     "output_type": "stream",
     "text": [
      "C:\\Users\\DELL\\AppData\\Local\\Temp\\ipykernel_2944\\4265509047.py:1: SettingWithCopyWarning: \n",
      "A value is trying to be set on a copy of a slice from a DataFrame\n",
      "\n",
      "See the caveats in the documentation: https://pandas.pydata.org/pandas-docs/stable/user_guide/indexing.html#returning-a-view-versus-a-copy\n",
      "  vehicles_df_cleaned.fillna(\"unknown\", inplace = True)\n"
     ]
    }
   ],
   "source": [
    "vehicles_df_cleaned.fillna(\"unknown\", inplace = True)"
   ]
  },
  {
   "cell_type": "code",
   "execution_count": 58,
   "metadata": {},
   "outputs": [
    {
     "data": {
      "text/plain": [
       "count    13973.000000\n",
       "mean      1990.866671\n",
       "std        224.386734\n",
       "min          0.000000\n",
       "25%       2013.000000\n",
       "50%       2016.000000\n",
       "75%       2021.000000\n",
       "max       2025.000000\n",
       "Name: Vehicle Model Year, dtype: float64"
      ]
     },
     "execution_count": 58,
     "metadata": {},
     "output_type": "execute_result"
    }
   ],
   "source": [
    "vehicles_df_cleaned['Vehicle Model Year'].describe()"
   ]
  },
  {
   "cell_type": "markdown",
   "metadata": {},
   "source": [
    "3. Handle outliers and missing values\n",
    "    Perform outlier removal and missing value imputation only if necessary.\n",
    "    State the reason for any such actions (you can state the reasons within the notebook)."
   ]
  },
  {
   "cell_type": "code",
   "execution_count": 59,
   "metadata": {},
   "outputs": [
    {
     "data": {
      "text/plain": [
       "(13797, 17)"
      ]
     },
     "execution_count": 59,
     "metadata": {},
     "output_type": "execute_result"
    }
   ],
   "source": [
    "\n",
    "filtered_df_cleaned = vehicles_df_cleaned[vehicles_df_cleaned['Vehicle Model Year']> 1900]\n",
    "filtered_df_cleaned.shape"
   ]
  },
  {
   "cell_type": "code",
   "execution_count": 60,
   "metadata": {},
   "outputs": [
    {
     "data": {
      "text/plain": [
       "count    13797.000000\n",
       "mean      2016.175763\n",
       "std          5.510874\n",
       "min       1980.000000\n",
       "25%       2013.000000\n",
       "50%       2016.000000\n",
       "75%       2021.000000\n",
       "max       2025.000000\n",
       "Name: Vehicle Model Year, dtype: float64"
      ]
     },
     "execution_count": 60,
     "metadata": {},
     "output_type": "execute_result"
    }
   ],
   "source": [
    "filtered_df_cleaned['Vehicle Model Year'].describe()"
   ]
  },
  {
   "cell_type": "markdown",
   "metadata": {},
   "source": []
  },
  {
   "cell_type": "markdown",
   "metadata": {},
   "source": [
    "4. Adding new columns to the Dataframe\n",
    " Vehicle Type\n",
    "    A string column indicating the type of the public passenger vehicle.\n",
    "    Hint: Extract this information from the “Record ID” column. It is a combination of vehicle type and the public vehicle number."
   ]
  },
  {
   "cell_type": "code",
   "execution_count": 61,
   "metadata": {},
   "outputs": [
    {
     "data": {
      "text/plain": [
       "array(['12009Charter Sightseeing', '12248Charter Sightseeing',\n",
       "       '13527Charter Sightseeing', ..., '166Pedicab', '42Pedicab',\n",
       "       '117Pedicab'], dtype=object)"
      ]
     },
     "execution_count": 61,
     "metadata": {},
     "output_type": "execute_result"
    }
   ],
   "source": [
    "filtered_df_cleaned['Record ID'].unique()"
   ]
  },
  {
   "cell_type": "code",
   "execution_count": 62,
   "metadata": {},
   "outputs": [
    {
     "name": "stderr",
     "output_type": "stream",
     "text": [
      "C:\\Users\\DELL\\AppData\\Local\\Temp\\ipykernel_2944\\3549340613.py:1: SettingWithCopyWarning: \n",
      "A value is trying to be set on a copy of a slice from a DataFrame.\n",
      "Try using .loc[row_indexer,col_indexer] = value instead\n",
      "\n",
      "See the caveats in the documentation: https://pandas.pydata.org/pandas-docs/stable/user_guide/indexing.html#returning-a-view-versus-a-copy\n",
      "  filtered_df_cleaned['Vehicle Type'] = filtered_df_cleaned['Record ID'].str.extract(r'(\\D+)$')[0]\n"
     ]
    },
    {
     "data": {
      "text/html": [
       "<div>\n",
       "<style scoped>\n",
       "    .dataframe tbody tr th:only-of-type {\n",
       "        vertical-align: middle;\n",
       "    }\n",
       "\n",
       "    .dataframe tbody tr th {\n",
       "        vertical-align: top;\n",
       "    }\n",
       "\n",
       "    .dataframe thead th {\n",
       "        text-align: right;\n",
       "    }\n",
       "</style>\n",
       "<table border=\"1\" class=\"dataframe\">\n",
       "  <thead>\n",
       "    <tr style=\"text-align: right;\">\n",
       "      <th></th>\n",
       "      <th>Unnamed: 0</th>\n",
       "      <th>Public Vehicle Number</th>\n",
       "      <th>Status</th>\n",
       "      <th>Vehicle Make</th>\n",
       "      <th>Vehicle Model</th>\n",
       "      <th>Vehicle Model Year</th>\n",
       "      <th>Vehicle Color</th>\n",
       "      <th>Vehicle Fuel Source</th>\n",
       "      <th>Wheelchair Accessible</th>\n",
       "      <th>Company Name</th>\n",
       "      <th>Address</th>\n",
       "      <th>City</th>\n",
       "      <th>State</th>\n",
       "      <th>ZIP Code</th>\n",
       "      <th>Taxi Affiliation</th>\n",
       "      <th>Taxi Medallion License Management</th>\n",
       "      <th>Record ID</th>\n",
       "      <th>Vehicle Type</th>\n",
       "    </tr>\n",
       "  </thead>\n",
       "  <tbody>\n",
       "    <tr>\n",
       "      <th>0</th>\n",
       "      <td>1286</td>\n",
       "      <td>12009</td>\n",
       "      <td>RESERVED</td>\n",
       "      <td>CHEVROLET</td>\n",
       "      <td>EXPRESS</td>\n",
       "      <td>2014</td>\n",
       "      <td>BLACK</td>\n",
       "      <td>Bio-Diesel</td>\n",
       "      <td>N</td>\n",
       "      <td>CHICAGO PRIVATE TOURS LLC</td>\n",
       "      <td>4567 S. OAKENWALD AVE.</td>\n",
       "      <td>CHICAGO</td>\n",
       "      <td>IL</td>\n",
       "      <td>60653.0</td>\n",
       "      <td>unknown</td>\n",
       "      <td>unknown</td>\n",
       "      <td>12009Charter Sightseeing</td>\n",
       "      <td>Charter Sightseeing</td>\n",
       "    </tr>\n",
       "    <tr>\n",
       "      <th>1</th>\n",
       "      <td>2095</td>\n",
       "      <td>12248</td>\n",
       "      <td>INACTIVE</td>\n",
       "      <td>MERCEDES</td>\n",
       "      <td>SPRINTER</td>\n",
       "      <td>2010</td>\n",
       "      <td>SILVER</td>\n",
       "      <td>Bio-Diesel</td>\n",
       "      <td>N</td>\n",
       "      <td>O'HARE-MIDWAY LIMOUSINE SERVICE INC # 2</td>\n",
       "      <td>4610 N. CLARK ST.</td>\n",
       "      <td>CHICAGO</td>\n",
       "      <td>IL</td>\n",
       "      <td>60640.0</td>\n",
       "      <td>unknown</td>\n",
       "      <td>unknown</td>\n",
       "      <td>12248Charter Sightseeing</td>\n",
       "      <td>Charter Sightseeing</td>\n",
       "    </tr>\n",
       "    <tr>\n",
       "      <th>2</th>\n",
       "      <td>7950</td>\n",
       "      <td>13527</td>\n",
       "      <td>INACTIVE</td>\n",
       "      <td>VAN HOOL</td>\n",
       "      <td>TD925</td>\n",
       "      <td>2008</td>\n",
       "      <td>RED</td>\n",
       "      <td>Bio-Diesel</td>\n",
       "      <td>N</td>\n",
       "      <td>TRT TRANSPORTATION, INC.</td>\n",
       "      <td>4400 S. RACINE AVE.</td>\n",
       "      <td>CHICAGO</td>\n",
       "      <td>IL</td>\n",
       "      <td>60609.0</td>\n",
       "      <td>unknown</td>\n",
       "      <td>unknown</td>\n",
       "      <td>13527Charter Sightseeing</td>\n",
       "      <td>Charter Sightseeing</td>\n",
       "    </tr>\n",
       "    <tr>\n",
       "      <th>4</th>\n",
       "      <td>9359</td>\n",
       "      <td>13528</td>\n",
       "      <td>INACTIVE</td>\n",
       "      <td>VAN HOOL</td>\n",
       "      <td>TD925</td>\n",
       "      <td>2008</td>\n",
       "      <td>RED</td>\n",
       "      <td>Bio-Diesel</td>\n",
       "      <td>N</td>\n",
       "      <td>TRT TRANSPORTATION, INC.</td>\n",
       "      <td>4400 S. RACINE AVE.</td>\n",
       "      <td>CHICAGO</td>\n",
       "      <td>IL</td>\n",
       "      <td>60609.0</td>\n",
       "      <td>unknown</td>\n",
       "      <td>unknown</td>\n",
       "      <td>13528Charter Sightseeing</td>\n",
       "      <td>Charter Sightseeing</td>\n",
       "    </tr>\n",
       "    <tr>\n",
       "      <th>5</th>\n",
       "      <td>9441</td>\n",
       "      <td>12025</td>\n",
       "      <td>INACTIVE</td>\n",
       "      <td>MERCEDES</td>\n",
       "      <td>SPRINTER</td>\n",
       "      <td>2015</td>\n",
       "      <td>BLACK</td>\n",
       "      <td>Bio-Diesel</td>\n",
       "      <td>N</td>\n",
       "      <td>O'HARE-MIDWAY LIMOUSINE SERVICE INC # 2</td>\n",
       "      <td>4610 N. CLARK ST.</td>\n",
       "      <td>CHICAGO</td>\n",
       "      <td>IL</td>\n",
       "      <td>60640.0</td>\n",
       "      <td>unknown</td>\n",
       "      <td>unknown</td>\n",
       "      <td>12025Charter Sightseeing</td>\n",
       "      <td>Charter Sightseeing</td>\n",
       "    </tr>\n",
       "  </tbody>\n",
       "</table>\n",
       "</div>"
      ],
      "text/plain": [
       "   Unnamed: 0  Public Vehicle Number    Status Vehicle Make Vehicle Model  \\\n",
       "0        1286                  12009  RESERVED    CHEVROLET       EXPRESS   \n",
       "1        2095                  12248  INACTIVE     MERCEDES      SPRINTER   \n",
       "2        7950                  13527  INACTIVE     VAN HOOL         TD925   \n",
       "4        9359                  13528  INACTIVE     VAN HOOL         TD925   \n",
       "5        9441                  12025  INACTIVE     MERCEDES      SPRINTER   \n",
       "\n",
       "   Vehicle Model Year Vehicle Color Vehicle Fuel Source Wheelchair Accessible  \\\n",
       "0                2014         BLACK          Bio-Diesel                     N   \n",
       "1                2010        SILVER          Bio-Diesel                     N   \n",
       "2                2008           RED          Bio-Diesel                     N   \n",
       "4                2008           RED          Bio-Diesel                     N   \n",
       "5                2015         BLACK          Bio-Diesel                     N   \n",
       "\n",
       "                              Company Name                 Address     City  \\\n",
       "0                CHICAGO PRIVATE TOURS LLC  4567 S. OAKENWALD AVE.  CHICAGO   \n",
       "1  O'HARE-MIDWAY LIMOUSINE SERVICE INC # 2       4610 N. CLARK ST.  CHICAGO   \n",
       "2                 TRT TRANSPORTATION, INC.     4400 S. RACINE AVE.  CHICAGO   \n",
       "4                 TRT TRANSPORTATION, INC.     4400 S. RACINE AVE.  CHICAGO   \n",
       "5  O'HARE-MIDWAY LIMOUSINE SERVICE INC # 2       4610 N. CLARK ST.  CHICAGO   \n",
       "\n",
       "  State  ZIP Code Taxi Affiliation Taxi Medallion License Management   \\\n",
       "0    IL   60653.0          unknown                            unknown   \n",
       "1    IL   60640.0          unknown                            unknown   \n",
       "2    IL   60609.0          unknown                            unknown   \n",
       "4    IL   60609.0          unknown                            unknown   \n",
       "5    IL   60640.0          unknown                            unknown   \n",
       "\n",
       "                  Record ID         Vehicle Type  \n",
       "0  12009Charter Sightseeing  Charter Sightseeing  \n",
       "1  12248Charter Sightseeing  Charter Sightseeing  \n",
       "2  13527Charter Sightseeing  Charter Sightseeing  \n",
       "4  13528Charter Sightseeing  Charter Sightseeing  \n",
       "5  12025Charter Sightseeing  Charter Sightseeing  "
      ]
     },
     "execution_count": 62,
     "metadata": {},
     "output_type": "execute_result"
    }
   ],
   "source": [
    "filtered_df_cleaned['Vehicle Type'] = filtered_df_cleaned['Record ID'].str.extract(r'(\\D+)$')[0]\n",
    "\n",
    "filtered_df_cleaned.head()"
   ]
  },
  {
   "cell_type": "markdown",
   "metadata": {},
   "source": [
    "5. Column Removal\n",
    "    Drop the columns “Address” and “Public Vehicle Number”."
   ]
  },
  {
   "cell_type": "code",
   "execution_count": 64,
   "metadata": {},
   "outputs": [
    {
     "name": "stderr",
     "output_type": "stream",
     "text": [
      "C:\\Users\\DELL\\AppData\\Local\\Temp\\ipykernel_2944\\1594787936.py:1: SettingWithCopyWarning: \n",
      "A value is trying to be set on a copy of a slice from a DataFrame\n",
      "\n",
      "See the caveats in the documentation: https://pandas.pydata.org/pandas-docs/stable/user_guide/indexing.html#returning-a-view-versus-a-copy\n",
      "  filtered_df_cleaned.drop(columns=['Address', 'Public Vehicle Number'], inplace=True)\n"
     ]
    }
   ],
   "source": [
    "filtered_df_cleaned.drop(columns=['Address', 'Public Vehicle Number'], inplace=True)"
   ]
  },
  {
   "cell_type": "code",
   "execution_count": 65,
   "metadata": {},
   "outputs": [
    {
     "data": {
      "text/html": [
       "<div>\n",
       "<style scoped>\n",
       "    .dataframe tbody tr th:only-of-type {\n",
       "        vertical-align: middle;\n",
       "    }\n",
       "\n",
       "    .dataframe tbody tr th {\n",
       "        vertical-align: top;\n",
       "    }\n",
       "\n",
       "    .dataframe thead th {\n",
       "        text-align: right;\n",
       "    }\n",
       "</style>\n",
       "<table border=\"1\" class=\"dataframe\">\n",
       "  <thead>\n",
       "    <tr style=\"text-align: right;\">\n",
       "      <th></th>\n",
       "      <th>Unnamed: 0</th>\n",
       "      <th>Status</th>\n",
       "      <th>Vehicle Make</th>\n",
       "      <th>Vehicle Model</th>\n",
       "      <th>Vehicle Model Year</th>\n",
       "      <th>Vehicle Color</th>\n",
       "      <th>Vehicle Fuel Source</th>\n",
       "      <th>Wheelchair Accessible</th>\n",
       "      <th>Company Name</th>\n",
       "      <th>City</th>\n",
       "      <th>State</th>\n",
       "      <th>ZIP Code</th>\n",
       "      <th>Taxi Affiliation</th>\n",
       "      <th>Taxi Medallion License Management</th>\n",
       "      <th>Record ID</th>\n",
       "      <th>Vehicle Type</th>\n",
       "    </tr>\n",
       "  </thead>\n",
       "  <tbody>\n",
       "    <tr>\n",
       "      <th>0</th>\n",
       "      <td>1286</td>\n",
       "      <td>RESERVED</td>\n",
       "      <td>CHEVROLET</td>\n",
       "      <td>EXPRESS</td>\n",
       "      <td>2014</td>\n",
       "      <td>BLACK</td>\n",
       "      <td>Bio-Diesel</td>\n",
       "      <td>N</td>\n",
       "      <td>CHICAGO PRIVATE TOURS LLC</td>\n",
       "      <td>CHICAGO</td>\n",
       "      <td>IL</td>\n",
       "      <td>60653.0</td>\n",
       "      <td>unknown</td>\n",
       "      <td>unknown</td>\n",
       "      <td>12009Charter Sightseeing</td>\n",
       "      <td>Charter Sightseeing</td>\n",
       "    </tr>\n",
       "    <tr>\n",
       "      <th>1</th>\n",
       "      <td>2095</td>\n",
       "      <td>INACTIVE</td>\n",
       "      <td>MERCEDES</td>\n",
       "      <td>SPRINTER</td>\n",
       "      <td>2010</td>\n",
       "      <td>SILVER</td>\n",
       "      <td>Bio-Diesel</td>\n",
       "      <td>N</td>\n",
       "      <td>O'HARE-MIDWAY LIMOUSINE SERVICE INC # 2</td>\n",
       "      <td>CHICAGO</td>\n",
       "      <td>IL</td>\n",
       "      <td>60640.0</td>\n",
       "      <td>unknown</td>\n",
       "      <td>unknown</td>\n",
       "      <td>12248Charter Sightseeing</td>\n",
       "      <td>Charter Sightseeing</td>\n",
       "    </tr>\n",
       "    <tr>\n",
       "      <th>2</th>\n",
       "      <td>7950</td>\n",
       "      <td>INACTIVE</td>\n",
       "      <td>VAN HOOL</td>\n",
       "      <td>TD925</td>\n",
       "      <td>2008</td>\n",
       "      <td>RED</td>\n",
       "      <td>Bio-Diesel</td>\n",
       "      <td>N</td>\n",
       "      <td>TRT TRANSPORTATION, INC.</td>\n",
       "      <td>CHICAGO</td>\n",
       "      <td>IL</td>\n",
       "      <td>60609.0</td>\n",
       "      <td>unknown</td>\n",
       "      <td>unknown</td>\n",
       "      <td>13527Charter Sightseeing</td>\n",
       "      <td>Charter Sightseeing</td>\n",
       "    </tr>\n",
       "    <tr>\n",
       "      <th>4</th>\n",
       "      <td>9359</td>\n",
       "      <td>INACTIVE</td>\n",
       "      <td>VAN HOOL</td>\n",
       "      <td>TD925</td>\n",
       "      <td>2008</td>\n",
       "      <td>RED</td>\n",
       "      <td>Bio-Diesel</td>\n",
       "      <td>N</td>\n",
       "      <td>TRT TRANSPORTATION, INC.</td>\n",
       "      <td>CHICAGO</td>\n",
       "      <td>IL</td>\n",
       "      <td>60609.0</td>\n",
       "      <td>unknown</td>\n",
       "      <td>unknown</td>\n",
       "      <td>13528Charter Sightseeing</td>\n",
       "      <td>Charter Sightseeing</td>\n",
       "    </tr>\n",
       "    <tr>\n",
       "      <th>5</th>\n",
       "      <td>9441</td>\n",
       "      <td>INACTIVE</td>\n",
       "      <td>MERCEDES</td>\n",
       "      <td>SPRINTER</td>\n",
       "      <td>2015</td>\n",
       "      <td>BLACK</td>\n",
       "      <td>Bio-Diesel</td>\n",
       "      <td>N</td>\n",
       "      <td>O'HARE-MIDWAY LIMOUSINE SERVICE INC # 2</td>\n",
       "      <td>CHICAGO</td>\n",
       "      <td>IL</td>\n",
       "      <td>60640.0</td>\n",
       "      <td>unknown</td>\n",
       "      <td>unknown</td>\n",
       "      <td>12025Charter Sightseeing</td>\n",
       "      <td>Charter Sightseeing</td>\n",
       "    </tr>\n",
       "  </tbody>\n",
       "</table>\n",
       "</div>"
      ],
      "text/plain": [
       "   Unnamed: 0    Status Vehicle Make Vehicle Model  Vehicle Model Year  \\\n",
       "0        1286  RESERVED    CHEVROLET       EXPRESS                2014   \n",
       "1        2095  INACTIVE     MERCEDES      SPRINTER                2010   \n",
       "2        7950  INACTIVE     VAN HOOL         TD925                2008   \n",
       "4        9359  INACTIVE     VAN HOOL         TD925                2008   \n",
       "5        9441  INACTIVE     MERCEDES      SPRINTER                2015   \n",
       "\n",
       "  Vehicle Color Vehicle Fuel Source Wheelchair Accessible  \\\n",
       "0         BLACK          Bio-Diesel                     N   \n",
       "1        SILVER          Bio-Diesel                     N   \n",
       "2           RED          Bio-Diesel                     N   \n",
       "4           RED          Bio-Diesel                     N   \n",
       "5         BLACK          Bio-Diesel                     N   \n",
       "\n",
       "                              Company Name     City State  ZIP Code  \\\n",
       "0                CHICAGO PRIVATE TOURS LLC  CHICAGO    IL   60653.0   \n",
       "1  O'HARE-MIDWAY LIMOUSINE SERVICE INC # 2  CHICAGO    IL   60640.0   \n",
       "2                 TRT TRANSPORTATION, INC.  CHICAGO    IL   60609.0   \n",
       "4                 TRT TRANSPORTATION, INC.  CHICAGO    IL   60609.0   \n",
       "5  O'HARE-MIDWAY LIMOUSINE SERVICE INC # 2  CHICAGO    IL   60640.0   \n",
       "\n",
       "  Taxi Affiliation Taxi Medallion License Management   \\\n",
       "0          unknown                            unknown   \n",
       "1          unknown                            unknown   \n",
       "2          unknown                            unknown   \n",
       "4          unknown                            unknown   \n",
       "5          unknown                            unknown   \n",
       "\n",
       "                  Record ID         Vehicle Type  \n",
       "0  12009Charter Sightseeing  Charter Sightseeing  \n",
       "1  12248Charter Sightseeing  Charter Sightseeing  \n",
       "2  13527Charter Sightseeing  Charter Sightseeing  \n",
       "4  13528Charter Sightseeing  Charter Sightseeing  \n",
       "5  12025Charter Sightseeing  Charter Sightseeing  "
      ]
     },
     "execution_count": 65,
     "metadata": {},
     "output_type": "execute_result"
    }
   ],
   "source": [
    "filtered_df_cleaned.head()"
   ]
  },
  {
   "cell_type": "code",
   "execution_count": 66,
   "metadata": {},
   "outputs": [
    {
     "data": {
      "text/plain": [
       "(13797, 16)"
      ]
     },
     "execution_count": 66,
     "metadata": {},
     "output_type": "execute_result"
    }
   ],
   "source": [
    "filtered_df_cleaned.shape"
   ]
  }
 ],
 "metadata": {
  "kernelspec": {
   "display_name": "base",
   "language": "python",
   "name": "python3"
  },
  "language_info": {
   "codemirror_mode": {
    "name": "ipython",
    "version": 3
   },
   "file_extension": ".py",
   "mimetype": "text/x-python",
   "name": "python",
   "nbconvert_exporter": "python",
   "pygments_lexer": "ipython3",
   "version": "3.12.7"
  }
 },
 "nbformat": 4,
 "nbformat_minor": 2
}
