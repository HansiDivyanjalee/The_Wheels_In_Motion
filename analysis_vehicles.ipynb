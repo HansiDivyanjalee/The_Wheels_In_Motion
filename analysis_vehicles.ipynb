{
 "cells": [
  {
   "cell_type": "code",
   "execution_count": 35,
   "metadata": {},
   "outputs": [],
   "source": [
    "import pandas as pd \n",
    "import numpy as np\n",
    "import os"
   ]
  },
  {
   "cell_type": "markdown",
   "metadata": {},
   "source": [
    "folder_path= './PassengerVehicle_Stats'\n",
    "dfs=[]\n",
    "files= [f for f in os.listdir(folder_path) if f.endswith('.csv')]\n",
    "\n",
    "for file in files:\n",
    "    file_path = os.path.join(folder_path,file)\n",
    "    df1 = pd.read_csv(file_path)\n",
    "    dfs.append(df1)\n",
    "\n",
    "combine_df = pd.concat(dfs, ignore_index=True)\n",
    "combine_df.to_csv('./vehicles_df.csv', index= False)"
   ]
  },
  {
   "cell_type": "code",
   "execution_count": 4,
   "metadata": {},
   "outputs": [
    {
     "data": {
      "text/plain": [
       "Unnamed: 0                                0\n",
       "Public Vehicle Number                     0\n",
       "Status                                    0\n",
       "Vehicle Make                           7668\n",
       "Vehicle Model                          7852\n",
       "Vehicle Model Year                     7768\n",
       "Vehicle Color                          7944\n",
       "Vehicle Fuel Source                       0\n",
       "Wheelchair Accessible                     0\n",
       "Company Name                              0\n",
       "Address                                7144\n",
       "City                                   7144\n",
       "State                                  7144\n",
       "ZIP Code                               7144\n",
       "Taxi Affiliation                      37016\n",
       "Taxi Medallion License Management     37124\n",
       "Record ID                                 0\n",
       "dtype: int64"
      ]
     },
     "execution_count": 4,
     "metadata": {},
     "output_type": "execute_result"
    }
   ],
   "source": [
    "df = pd.read_csv('vehicles_df.csv')\n",
    "df.isna().sum()"
   ]
  },
  {
   "cell_type": "code",
   "execution_count": 13,
   "metadata": {},
   "outputs": [
    {
     "name": "stdout",
     "output_type": "stream",
     "text": [
      "<class 'pandas.core.frame.DataFrame'>\n",
      "RangeIndex: 66408 entries, 0 to 66407\n",
      "Data columns (total 17 columns):\n",
      " #   Column                              Non-Null Count  Dtype  \n",
      "---  ------                              --------------  -----  \n",
      " 0   Unnamed: 0                          66408 non-null  int64  \n",
      " 1   Public Vehicle Number               66408 non-null  int64  \n",
      " 2   Status                              66408 non-null  object \n",
      " 3   Vehicle Make                        58740 non-null  object \n",
      " 4   Vehicle Model                       58556 non-null  object \n",
      " 5   Vehicle Model Year                  58640 non-null  float64\n",
      " 6   Vehicle Color                       58464 non-null  object \n",
      " 7   Vehicle Fuel Source                 66408 non-null  object \n",
      " 8   Wheelchair Accessible               66408 non-null  object \n",
      " 9   Company Name                        66408 non-null  object \n",
      " 10  Address                             59264 non-null  object \n",
      " 11  City                                59264 non-null  object \n",
      " 12  State                               59264 non-null  object \n",
      " 13  ZIP Code                            59264 non-null  float64\n",
      " 14  Taxi Affiliation                    29392 non-null  object \n",
      " 15  Taxi Medallion License Management   29284 non-null  object \n",
      " 16  Record ID                           66408 non-null  object \n",
      "dtypes: float64(2), int64(2), object(13)\n",
      "memory usage: 8.6+ MB\n"
     ]
    }
   ],
   "source": [
    "df.info()"
   ]
  },
  {
   "cell_type": "code",
   "execution_count": 19,
   "metadata": {},
   "outputs": [
    {
     "data": {
      "text/plain": [
       "2496"
      ]
     },
     "execution_count": 19,
     "metadata": {},
     "output_type": "execute_result"
    }
   ],
   "source": [
    "(df['Wheelchair Accessible']=='Y').sum()"
   ]
  },
  {
   "cell_type": "code",
   "execution_count": 23,
   "metadata": {},
   "outputs": [],
   "source": [
    "df.drop('Unnamed: 0',axis=1,inplace=True)"
   ]
  },
  {
   "cell_type": "code",
   "execution_count": 25,
   "metadata": {},
   "outputs": [
    {
     "data": {
      "text/plain": [
       "66408"
      ]
     },
     "execution_count": 25,
     "metadata": {},
     "output_type": "execute_result"
    }
   ],
   "source": [
    "(df['Vehicle Model Year'].apply(lambda x: isinstance(x,float))).sum()"
   ]
  },
  {
   "cell_type": "code",
   "execution_count": 67,
   "metadata": {},
   "outputs": [
    {
     "data": {
      "text/plain": [
       "array([2014., 2010., 2008., 2015., 2012., 2016., 2011., 2017., 2009.,\n",
       "       2013., 2024., 2005., 2001., 2002., 2000., 1993., 2007., 1998.,\n",
       "       2006., 1997., 1988., 1990., 2004., 1999., 1986., 1992., 2021.,\n",
       "       2020., 2023., 2018., 2019., 2022.,   nan, 2003., 2025., 1996.,\n",
       "       1984., 1994., 1981., 1995., 1991., 1989., 1983., 1987., 1985.,\n",
       "       1980., 1196.])"
      ]
     },
     "execution_count": 67,
     "metadata": {},
     "output_type": "execute_result"
    }
   ],
   "source": [
    "df['Vehicle Model Year'].unique()"
   ]
  },
  {
   "cell_type": "code",
   "execution_count": 64,
   "metadata": {},
   "outputs": [],
   "source": [
    "#df['Vehicle Model Year']=df['Vehicle Model Year'].apply(lambda x: int(x) if isinstance(x,float) and not np.isnan(x) and x%1 !=0 else x)\n",
    "#df['Vehicle Model Year']=df['Vehicle Model Year'].astype(\"int64\")\n",
    "values_replace = [7.,0.]\n",
    "df['Vehicle Model Year']=df['Vehicle Model Year'].replace(values_replace,np.nan)\n"
   ]
  },
  {
   "cell_type": "code",
   "execution_count": null,
   "metadata": {},
   "outputs": [],
   "source": []
  },
  {
   "cell_type": "code",
   "execution_count": null,
   "metadata": {},
   "outputs": [],
   "source": []
  },
  {
   "cell_type": "code",
   "execution_count": null,
   "metadata": {},
   "outputs": [],
   "source": []
  }
 ],
 "metadata": {
  "kernelspec": {
   "display_name": "base",
   "language": "python",
   "name": "python3"
  },
  "language_info": {
   "codemirror_mode": {
    "name": "ipython",
    "version": 3
   },
   "file_extension": ".py",
   "mimetype": "text/x-python",
   "name": "python",
   "nbconvert_exporter": "python",
   "pygments_lexer": "ipython3",
   "version": "3.12.4"
  }
 },
 "nbformat": 4,
 "nbformat_minor": 2
}
