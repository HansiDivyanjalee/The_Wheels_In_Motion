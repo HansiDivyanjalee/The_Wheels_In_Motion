{
 "cells": [
  {
   "cell_type": "code",
   "execution_count": 35,
   "metadata": {},
   "outputs": [],
   "source": [
    "import pandas as pd \n",
    "import numpy as np\n",
    "import os"
   ]
  },
  {
   "cell_type": "markdown",
   "metadata": {},
   "source": [
    "folder_path= './PassengerVehicle_Stats'\n",
    "dfs=[]\n",
    "files= [f for f in os.listdir(folder_path) if f.endswith('.csv')]\n",
    "\n",
    "for file in files:\n",
    "    file_path = os.path.join(folder_path,file)\n",
    "    df1 = pd.read_csv(file_path)\n",
    "    dfs.append(df1)\n",
    "\n",
    "combine_df = pd.concat(dfs, ignore_index=True)\n",
    "combine_df.to_csv('./vehicles_df.csv', index= False)"
   ]
  },
  {
   "cell_type": "code",
   "execution_count": 4,
   "metadata": {},
   "outputs": [
    {
     "data": {
      "text/plain": [
       "Unnamed: 0                                0\n",
       "Public Vehicle Number                     0\n",
       "Status                                    0\n",
       "Vehicle Make                           7668\n",
       "Vehicle Model                          7852\n",
       "Vehicle Model Year                     7768\n",
       "Vehicle Color                          7944\n",
       "Vehicle Fuel Source                       0\n",
       "Wheelchair Accessible                     0\n",
       "Company Name                              0\n",
       "Address                                7144\n",
       "City                                   7144\n",
       "State                                  7144\n",
       "ZIP Code                               7144\n",
       "Taxi Affiliation                      37016\n",
       "Taxi Medallion License Management     37124\n",
       "Record ID                                 0\n",
       "dtype: int64"
      ]
     },
     "execution_count": 4,
     "metadata": {},
     "output_type": "execute_result"
    }
   ],
   "source": [
    "df = pd.read_csv('vehicles_df.csv')\n",
    "df.isna().sum()"
   ]
  },
  {
   "cell_type": "code",
   "execution_count": 13,
   "metadata": {},
   "outputs": [
    {
     "name": "stdout",
     "output_type": "stream",
     "text": [
      "<class 'pandas.core.frame.DataFrame'>\n",
      "RangeIndex: 66408 entries, 0 to 66407\n",
      "Data columns (total 17 columns):\n",
      " #   Column                              Non-Null Count  Dtype  \n",
      "---  ------                              --------------  -----  \n",
      " 0   Unnamed: 0                          66408 non-null  int64  \n",
      " 1   Public Vehicle Number               66408 non-null  int64  \n",
      " 2   Status                              66408 non-null  object \n",
      " 3   Vehicle Make                        58740 non-null  object \n",
      " 4   Vehicle Model                       58556 non-null  object \n",
      " 5   Vehicle Model Year                  58640 non-null  float64\n",
      " 6   Vehicle Color                       58464 non-null  object \n",
      " 7   Vehicle Fuel Source                 66408 non-null  object \n",
      " 8   Wheelchair Accessible               66408 non-null  object \n",
      " 9   Company Name                        66408 non-null  object \n",
      " 10  Address                             59264 non-null  object \n",
      " 11  City                                59264 non-null  object \n",
      " 12  State                               59264 non-null  object \n",
      " 13  ZIP Code                            59264 non-null  float64\n",
      " 14  Taxi Affiliation                    29392 non-null  object \n",
      " 15  Taxi Medallion License Management   29284 non-null  object \n",
      " 16  Record ID                           66408 non-null  object \n",
      "dtypes: float64(2), int64(2), object(13)\n",
      "memory usage: 8.6+ MB\n"
     ]
    }
   ],
   "source": [
    "df.info()"
   ]
  },
  {
   "cell_type": "code",
   "execution_count": 19,
   "metadata": {},
   "outputs": [
    {
     "data": {
      "text/plain": [
       "2496"
      ]
     },
     "execution_count": 19,
     "metadata": {},
     "output_type": "execute_result"
    }
   ],
   "source": [
    "(df['Wheelchair Accessible']=='Y').sum()"
   ]
  },
  {
   "cell_type": "code",
   "execution_count": 23,
   "metadata": {},
   "outputs": [],
   "source": [
    "df.drop('Unnamed: 0',axis=1,inplace=True)"
   ]
  },
  {
   "cell_type": "code",
   "execution_count": 25,
   "metadata": {},
   "outputs": [
    {
     "data": {
      "text/plain": [
       "66408"
      ]
     },
     "execution_count": 25,
     "metadata": {},
     "output_type": "execute_result"
    }
   ],
   "source": [
    "(df['Vehicle Model Year'].apply(lambda x: isinstance(x,float))).sum()"
   ]
  },
  {
   "cell_type": "code",
   "execution_count": 118,
   "metadata": {},
   "outputs": [
    {
     "data": {
      "text/plain": [
       "array([2014, 2010, 2008, 2015, 2012, 2016, 2011, 2017, 2009, 2013, 2024,\n",
       "       2005, 2001, 2002, 2000, 1993, 2007, 1998, 2006, 1997, 1988, 1990,\n",
       "       2004, 1999, 1986, 1992, 2021, 2020, 2023, 2018, 2019, 2022,    0,\n",
       "       2003, 2025, 1996, 1984, 1994, 1981, 1995, 1991, 1989, 1983, 1987,\n",
       "       1985, 1980])"
      ]
     },
     "execution_count": 118,
     "metadata": {},
     "output_type": "execute_result"
    }
   ],
   "source": [
    "df['Vehicle Model Year'].unique()"
   ]
  },
  {
   "cell_type": "code",
   "execution_count": 69,
   "metadata": {},
   "outputs": [],
   "source": [
    "\n",
    "values_replace = [7.,0.]\n",
    "df['Vehicle Model Year']=df['Vehicle Model Year'].replace(values_replace,np.nan)\n"
   ]
  },
  {
   "cell_type": "code",
   "execution_count": 115,
   "metadata": {},
   "outputs": [],
   "source": [
    "df['Vehicle Model Year']=df['Vehicle Model Year'].fillna(0)"
   ]
  },
  {
   "cell_type": "code",
   "execution_count": 117,
   "metadata": {},
   "outputs": [],
   "source": [
    "df['Vehicle Model Year']=df['Vehicle Model Year'].astype(int)"
   ]
  },
  {
   "cell_type": "code",
   "execution_count": 131,
   "metadata": {},
   "outputs": [
    {
     "data": {
      "text/html": [
       "<div>\n",
       "<style scoped>\n",
       "    .dataframe tbody tr th:only-of-type {\n",
       "        vertical-align: middle;\n",
       "    }\n",
       "\n",
       "    .dataframe tbody tr th {\n",
       "        vertical-align: top;\n",
       "    }\n",
       "\n",
       "    .dataframe thead th {\n",
       "        text-align: right;\n",
       "    }\n",
       "</style>\n",
       "<table border=\"1\" class=\"dataframe\">\n",
       "  <thead>\n",
       "    <tr style=\"text-align: right;\">\n",
       "      <th></th>\n",
       "      <th>Public Vehicle Number</th>\n",
       "      <th>Status</th>\n",
       "      <th>Vehicle Make</th>\n",
       "      <th>Vehicle Model</th>\n",
       "      <th>Vehicle Model Year</th>\n",
       "      <th>Vehicle Color</th>\n",
       "      <th>Vehicle Fuel Source</th>\n",
       "      <th>Wheelchair Accessible</th>\n",
       "      <th>Company Name</th>\n",
       "      <th>Address</th>\n",
       "      <th>City</th>\n",
       "      <th>State</th>\n",
       "      <th>ZIP Code</th>\n",
       "      <th>Taxi Affiliation</th>\n",
       "      <th>Taxi Medallion License Management</th>\n",
       "      <th>Record ID</th>\n",
       "    </tr>\n",
       "  </thead>\n",
       "  <tbody>\n",
       "    <tr>\n",
       "      <th>66403</th>\n",
       "      <td>42</td>\n",
       "      <td>ACTIVE</td>\n",
       "      <td>PRECISION</td>\n",
       "      <td>6 SEATER</td>\n",
       "      <td>2020</td>\n",
       "      <td>FUSCIA</td>\n",
       "      <td>Pedal</td>\n",
       "      <td>N</td>\n",
       "      <td>JBL PEDICAB MANAGEMENT LLC</td>\n",
       "      <td>1627 N. TRIPP AVE.</td>\n",
       "      <td>CHICAGO</td>\n",
       "      <td>IL</td>\n",
       "      <td>60639</td>\n",
       "      <td>NaN</td>\n",
       "      <td>NaN</td>\n",
       "      <td>42Pedicab</td>\n",
       "    </tr>\n",
       "    <tr>\n",
       "      <th>66404</th>\n",
       "      <td>52</td>\n",
       "      <td>ACTIVE</td>\n",
       "      <td>SCHWINN</td>\n",
       "      <td>NONE</td>\n",
       "      <td>2014</td>\n",
       "      <td>GREEN</td>\n",
       "      <td>Pedal</td>\n",
       "      <td>N</td>\n",
       "      <td>BM PEDICAB INC.</td>\n",
       "      <td>4450 N. KEDZIE AVE.</td>\n",
       "      <td>CHICAGO</td>\n",
       "      <td>IL</td>\n",
       "      <td>60625</td>\n",
       "      <td>NaN</td>\n",
       "      <td>NaN</td>\n",
       "      <td>52Pedicab</td>\n",
       "    </tr>\n",
       "    <tr>\n",
       "      <th>66405</th>\n",
       "      <td>70</td>\n",
       "      <td>VIOLATION</td>\n",
       "      <td>MAINSTREET</td>\n",
       "      <td>CLASSIC</td>\n",
       "      <td>0</td>\n",
       "      <td>RED/BLACK</td>\n",
       "      <td>Pedal</td>\n",
       "      <td>N</td>\n",
       "      <td>EMPIRE PEDICAB LLC</td>\n",
       "      <td>318 W. ADAMS ST.</td>\n",
       "      <td>CHICAGO</td>\n",
       "      <td>IL</td>\n",
       "      <td>60606</td>\n",
       "      <td>NaN</td>\n",
       "      <td>NaN</td>\n",
       "      <td>70Pedicab</td>\n",
       "    </tr>\n",
       "    <tr>\n",
       "      <th>66406</th>\n",
       "      <td>57</td>\n",
       "      <td>VIOLATION</td>\n",
       "      <td>MAINSTREET</td>\n",
       "      <td>BOARDWALK</td>\n",
       "      <td>2011</td>\n",
       "      <td>RED</td>\n",
       "      <td>Pedal</td>\n",
       "      <td>N</td>\n",
       "      <td>CARGILL C KELLY II</td>\n",
       "      <td>2428 W. 24TH PL.</td>\n",
       "      <td>CHICAGO</td>\n",
       "      <td>IL</td>\n",
       "      <td>60608</td>\n",
       "      <td>NaN</td>\n",
       "      <td>NaN</td>\n",
       "      <td>57Pedicab</td>\n",
       "    </tr>\n",
       "    <tr>\n",
       "      <th>66407</th>\n",
       "      <td>117</td>\n",
       "      <td>ACTIVE</td>\n",
       "      <td>SCHWINN</td>\n",
       "      <td>NONE</td>\n",
       "      <td>2014</td>\n",
       "      <td>GREEN</td>\n",
       "      <td>Pedal</td>\n",
       "      <td>N</td>\n",
       "      <td>BM PEDICAB INC.</td>\n",
       "      <td>4450 N. KEDZIE AVE.</td>\n",
       "      <td>CHICAGO</td>\n",
       "      <td>IL</td>\n",
       "      <td>60625</td>\n",
       "      <td>NaN</td>\n",
       "      <td>NaN</td>\n",
       "      <td>117Pedicab</td>\n",
       "    </tr>\n",
       "  </tbody>\n",
       "</table>\n",
       "</div>"
      ],
      "text/plain": [
       "       Public Vehicle Number     Status Vehicle Make Vehicle Model  \\\n",
       "66403                     42     ACTIVE    PRECISION      6 SEATER   \n",
       "66404                     52     ACTIVE      SCHWINN          NONE   \n",
       "66405                     70  VIOLATION   MAINSTREET       CLASSIC   \n",
       "66406                     57  VIOLATION   MAINSTREET     BOARDWALK   \n",
       "66407                    117     ACTIVE      SCHWINN          NONE   \n",
       "\n",
       "       Vehicle Model Year Vehicle Color Vehicle Fuel Source  \\\n",
       "66403                2020        FUSCIA               Pedal   \n",
       "66404                2014         GREEN               Pedal   \n",
       "66405                   0     RED/BLACK               Pedal   \n",
       "66406                2011           RED               Pedal   \n",
       "66407                2014         GREEN               Pedal   \n",
       "\n",
       "      Wheelchair Accessible                Company Name              Address  \\\n",
       "66403                     N  JBL PEDICAB MANAGEMENT LLC   1627 N. TRIPP AVE.   \n",
       "66404                     N             BM PEDICAB INC.  4450 N. KEDZIE AVE.   \n",
       "66405                     N          EMPIRE PEDICAB LLC     318 W. ADAMS ST.   \n",
       "66406                     N          CARGILL C KELLY II     2428 W. 24TH PL.   \n",
       "66407                     N             BM PEDICAB INC.  4450 N. KEDZIE AVE.   \n",
       "\n",
       "          City State  ZIP Code Taxi Affiliation  \\\n",
       "66403  CHICAGO    IL     60639              NaN   \n",
       "66404  CHICAGO    IL     60625              NaN   \n",
       "66405  CHICAGO    IL     60606              NaN   \n",
       "66406  CHICAGO    IL     60608              NaN   \n",
       "66407  CHICAGO    IL     60625              NaN   \n",
       "\n",
       "      Taxi Medallion License Management    Record ID  \n",
       "66403                                NaN   42Pedicab  \n",
       "66404                                NaN   52Pedicab  \n",
       "66405                                NaN   70Pedicab  \n",
       "66406                                NaN   57Pedicab  \n",
       "66407                                NaN  117Pedicab  "
      ]
     },
     "execution_count": 131,
     "metadata": {},
     "output_type": "execute_result"
    }
   ],
   "source": [
    "df.tail()"
   ]
  },
  {
   "cell_type": "code",
   "execution_count": 130,
   "metadata": {},
   "outputs": [
    {
     "data": {
      "text/plain": [
       "array(['N', 'Y'], dtype=object)"
      ]
     },
     "execution_count": 130,
     "metadata": {},
     "output_type": "execute_result"
    }
   ],
   "source": [
    "df['Wheelchair Accessible'].unique()"
   ]
  },
  {
   "cell_type": "code",
   "execution_count": 123,
   "metadata": {},
   "outputs": [],
   "source": [
    "df['ZIP Code']=df['ZIP Code'].fillna(0)"
   ]
  },
  {
   "cell_type": "code",
   "execution_count": 125,
   "metadata": {},
   "outputs": [],
   "source": [
    "df['ZIP Code']=df['ZIP Code'].astype(int)"
   ]
  },
  {
   "cell_type": "code",
   "execution_count": null,
   "metadata": {},
   "outputs": [],
   "source": []
  }
 ],
 "metadata": {
  "kernelspec": {
   "display_name": "base",
   "language": "python",
   "name": "python3"
  },
  "language_info": {
   "codemirror_mode": {
    "name": "ipython",
    "version": 3
   },
   "file_extension": ".py",
   "mimetype": "text/x-python",
   "name": "python",
   "nbconvert_exporter": "python",
   "pygments_lexer": "ipython3",
   "version": "3.12.4"
  }
 },
 "nbformat": 4,
 "nbformat_minor": 2
}
