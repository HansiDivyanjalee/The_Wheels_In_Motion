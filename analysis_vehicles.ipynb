{
 "cells": [
  {
   "cell_type": "code",
   "execution_count": 11,
   "metadata": {},
   "outputs": [],
   "source": [
    "import pandas as pd \n",
    "import os"
   ]
  },
  {
   "cell_type": "code",
   "execution_count": 12,
   "metadata": {},
   "outputs": [],
   "source": [
    "folder_path= './PassengerVehicle_Stats'\n",
    "dfs=[]\n",
    "files= [f for f in os.listdir(folder_path) if f.endswith('.csv')]\n",
    "\n",
    "for file in files:\n",
    "    file_path = os.path.join(folder_path,file)\n",
    "    df1 = pd.read_csv(file_path)\n",
    "    dfs.append(df1)\n",
    "\n",
    "combine_df = pd.concat(dfs, ignore_index=True)\n",
    "combine_df.to_csv('./vehicles_df.csv', index= False)"
   ]
  },
  {
   "cell_type": "code",
   "execution_count": 13,
   "metadata": {},
   "outputs": [
    {
     "data": {
      "text/plain": [
       "Unnamed: 0                                0\n",
       "Public Vehicle Number                     0\n",
       "Status                                    0\n",
       "Vehicle Make                           7668\n",
       "Vehicle Model                          7852\n",
       "Vehicle Model Year                     7768\n",
       "Vehicle Color                          7944\n",
       "Vehicle Fuel Source                       0\n",
       "Wheelchair Accessible                     0\n",
       "Company Name                              0\n",
       "Address                                7144\n",
       "City                                   7144\n",
       "State                                  7144\n",
       "ZIP Code                               7144\n",
       "Taxi Affiliation                      37016\n",
       "Taxi Medallion License Management     37124\n",
       "Record ID                                 0\n",
       "dtype: int64"
      ]
     },
     "execution_count": 13,
     "metadata": {},
     "output_type": "execute_result"
    }
   ],
   "source": [
    "df = pd.read_csv('vehicles_df.csv')\n",
    "df.isna().sum()"
   ]
  },
  {
   "cell_type": "code",
   "execution_count": 14,
   "metadata": {},
   "outputs": [
    {
     "name": "stdout",
     "output_type": "stream",
     "text": [
      "<class 'pandas.core.frame.DataFrame'>\n",
      "RangeIndex: 66408 entries, 0 to 66407\n",
      "Data columns (total 17 columns):\n",
      " #   Column                              Non-Null Count  Dtype  \n",
      "---  ------                              --------------  -----  \n",
      " 0   Unnamed: 0                          66408 non-null  int64  \n",
      " 1   Public Vehicle Number               66408 non-null  int64  \n",
      " 2   Status                              66408 non-null  object \n",
      " 3   Vehicle Make                        58740 non-null  object \n",
      " 4   Vehicle Model                       58556 non-null  object \n",
      " 5   Vehicle Model Year                  58640 non-null  float64\n",
      " 6   Vehicle Color                       58464 non-null  object \n",
      " 7   Vehicle Fuel Source                 66408 non-null  object \n",
      " 8   Wheelchair Accessible               66408 non-null  object \n",
      " 9   Company Name                        66408 non-null  object \n",
      " 10  Address                             59264 non-null  object \n",
      " 11  City                                59264 non-null  object \n",
      " 12  State                               59264 non-null  object \n",
      " 13  ZIP Code                            59264 non-null  float64\n",
      " 14  Taxi Affiliation                    29392 non-null  object \n",
      " 15  Taxi Medallion License Management   29284 non-null  object \n",
      " 16  Record ID                           66408 non-null  object \n",
      "dtypes: float64(2), int64(2), object(13)\n",
      "memory usage: 8.6+ MB\n",
      "None\n"
     ]
    }
   ],
   "source": [
    "print(df.info())"
   ]
  },
  {
   "cell_type": "code",
   "execution_count": 15,
   "metadata": {},
   "outputs": [
    {
     "name": "stdout",
     "output_type": "stream",
     "text": [
      "   Unnamed: 0  Public Vehicle Number     Status Vehicle Make   Vehicle Model  \\\n",
      "0          56                   4595  VIOLATION        DODGE         CARAVAN   \n",
      "1         129                   4540  VIOLATION        DODGE   GRAND CARAVAN   \n",
      "2         148                   1759  VIOLATION        DODGE         CARAVAN   \n",
      "3         248                   6897    REVOKED        DODGE   GRAND CARAVAN   \n",
      "4         252                   5774  VIOLATION         FORD  CROWN VICTORIA   \n",
      "\n",
      "   Vehicle Model Year Vehicle Color Vehicle Fuel Source Wheelchair Accessible  \\\n",
      "0              2017.0         WHITE           Flex Fuel                     N   \n",
      "1              2017.0         WHITE           Flex Fuel                     Y   \n",
      "2              2013.0         WHITE           Flex Fuel                     N   \n",
      "3              2013.0         WHITE           Flex Fuel                     N   \n",
      "4              2011.0         WHITE           Flex Fuel                     N   \n",
      "\n",
      "       Company Name                 Address     City State  ZIP Code  \\\n",
      "0     AMC CAB CORP.  3800 N. MILWAUKEE AVE.  CHICAGO    IL   60641.0   \n",
      "1   ELSTON FOUR LLC  3800 N. MILWAUKEE AVE.  CHICAGO    IL   60641.0   \n",
      "2         1759 INC.   2601 W. PETERSON AVE.  CHICAGO    IL   60659.0   \n",
      "3  SHAZIF CAB CORP.     9696 W. FOSTER AVE.  CHICAGO    IL   60656.0   \n",
      "4   THOMAS A. ZUMMO   1756 W. CULLERTON ST.  CHICAGO    IL   60608.0   \n",
      "\n",
      "  Taxi Affiliation Taxi Medallion License Management  Record ID  \n",
      "0   DIS-AFFILIATED                      Owner Manager  4595Taxi  \n",
      "1   DIS-AFFILIATED                      Owner Manager  4540Taxi  \n",
      "2   DIS-AFFILIATED                      Owner Manager  1759Taxi  \n",
      "3   DIS-AFFILIATED                      Owner Manager  6897Taxi  \n",
      "4   DIS-AFFILIATED                      Owner Manager  5774Taxi  \n"
     ]
    }
   ],
   "source": [
    "print(df.head())"
   ]
  },
  {
   "cell_type": "code",
   "execution_count": 16,
   "metadata": {},
   "outputs": [
    {
     "name": "stdout",
     "output_type": "stream",
     "text": [
      "         Unnamed: 0  Public Vehicle Number  Vehicle Model Year      ZIP Code\n",
      "count  66408.000000           6.640800e+04        58640.000000  59264.000000\n",
      "mean    8300.500000           3.854566e+04         2012.669714  60612.519573\n",
      "std     4792.620661           1.372915e+05           83.620667    104.288240\n",
      "min        0.000000           0.000000e+00            0.000000  60004.000000\n",
      "25%     4150.000000           3.633000e+03         2013.000000  60619.000000\n",
      "50%     8300.500000           6.991500e+03         2016.000000  60631.000000\n",
      "75%    12451.000000           1.684100e+04         2021.000000  60646.000000\n",
      "max    16601.000000           6.902206e+06         2025.000000  61111.000000\n"
     ]
    }
   ],
   "source": [
    "print(df.describe())"
   ]
  }
 ],
 "metadata": {
  "kernelspec": {
   "display_name": ".venv",
   "language": "python",
   "name": "python3"
  },
  "language_info": {
   "codemirror_mode": {
    "name": "ipython",
    "version": 3
   },
   "file_extension": ".py",
   "mimetype": "text/x-python",
   "name": "python",
   "nbconvert_exporter": "python",
   "pygments_lexer": "ipython3",
   "version": "3.12.3"
  }
 },
 "nbformat": 4,
 "nbformat_minor": 2
}
